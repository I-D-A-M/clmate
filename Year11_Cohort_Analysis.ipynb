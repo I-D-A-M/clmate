{
 "cells": [
  {
   "cell_type": "markdown",
   "metadata": {},
   "source": [
    "#ClMATE cohort analysis - Year 11 15/16 mock results\n",
    "\n",
    "###Use and description of code\n",
    "\n",
    "This notebook is designed to take the ClMATE database and generate a list of the wost performing 10 topics for each tier. The rationale of the design is as follows:\n",
    "1. Pull out *all* results for the current year 11 (these are the only assessments in the database at present so this **will** break once more assessments are stored)\n",
    "2. Clean up the representation to pull out a topic, mark and available mark for each result.\n",
    "3. Use this to generate a percentage success *(decimal from 0.0 - 1.0)* for each result.\n",
    "4. Group results by **question name** *(see note below)* and find the mean for each question topic\n",
    "5. Sort and slice off the first 10 questions"
   ]
  },
  {
   "cell_type": "code",
   "execution_count": 49,
   "metadata": {
    "collapsed": false
   },
   "outputs": [],
   "source": [
    "from collections import namedtuple\n",
    "import pandas as pd\n",
    "import numpy as np\n",
    "import sqlite3\n",
    "\n",
    "with sqlite3.connect(\"ClMATE_DB.db\") as DB:\n",
    "    query = \"SELECT * FROM results WHERE aID in (?, ?)\"\n",
    "    # -- Format is: aID; UPN; teaching_set; aName; qNum; pMark\n",
    "    resHigher = DB.execute(query, (56, 57)).fetchall()\n",
    "    resFound = DB.execute(query, (58, 59)).fetchall()\n",
    "\n",
    "    # -- prep question mark data for combining into the result tuples\n",
    "    assessmentMarks = dict()\n",
    "    for a in [56, 57, 58, 59]:\n",
    "        query = \"SELECT qNum, qMark from assessments where aID = ?\"\n",
    "        qScores = DB.execute(query, (a,)).fetchall()\n",
    "        for q in qScores:\n",
    "            key = str(a) + '/' + str(q[0])\n",
    "            assessmentMarks[key] = q[1]\n",
    "\n",
    "    titleDict = dict()\n",
    "    for aID in [56, 57, 58, 59]:\n",
    "        titleDict[aID] = dict()\n",
    "        with sqlite3.connect(\"ClMATE_DB.db\") as DB:\n",
    "            query = \"SELECT qNum, qTitle FROM assessments where aID = ?\"\n",
    "            qTitles = DB.execute(query, (aID,)).fetchall()\n",
    "            for q in qTitles:\n",
    "                titleDict[aID][q[0]] = q[1].strip()\n",
    "\n",
    "# -- Improve readability for main dataset: class_results should NOT be mutated\n",
    "result = namedtuple('Result', ['topic', 'performance'])\n",
    "higher_results = [result(titleDict[r[0]][r[4]], r[5] / assessmentMarks[str(r[0]) + '/' + str(r[4])]) for r in resHigher]\n",
    "found_results = [result(titleDict[r[0]][r[4]], r[5] / assessmentMarks[str(r[0]) + '/' + str(r[4])]) for r in resFound]"
   ]
  },
  {
   "cell_type": "markdown",
   "metadata": {},
   "source": [
    "# Warning!!\n",
    "## The following code is super hacky and relies on the fact that - in this case - each question has a unique name accross *all* assessments being agregated over.\n",
    "## It will *not* work correctly if this is not the case!"
   ]
  },
  {
   "cell_type": "code",
   "execution_count": 50,
   "metadata": {
    "collapsed": false
   },
   "outputs": [
    {
     "data": {
      "text/html": [
       "<div>\n",
       "<table border=\"1\" class=\"dataframe\">\n",
       "  <thead>\n",
       "    <tr style=\"text-align: right;\">\n",
       "      <th></th>\n",
       "      <th>performance</th>\n",
       "    </tr>\n",
       "    <tr>\n",
       "      <th>topic</th>\n",
       "      <th></th>\n",
       "    </tr>\n",
       "  </thead>\n",
       "  <tbody>\n",
       "    <tr>\n",
       "      <th>Volume and rates of change</th>\n",
       "      <td>4.16</td>\n",
       "    </tr>\n",
       "    <tr>\n",
       "      <th>Algebraic proof for recurring decimals</th>\n",
       "      <td>4.43</td>\n",
       "    </tr>\n",
       "    <tr>\n",
       "      <th>Surds and indices</th>\n",
       "      <td>6.65</td>\n",
       "    </tr>\n",
       "    <tr>\n",
       "      <th>Algebraic proof and solving a quadratic</th>\n",
       "      <td>7.71</td>\n",
       "    </tr>\n",
       "    <tr>\n",
       "      <th>Changing the subject of a formula</th>\n",
       "      <td>8.38</td>\n",
       "    </tr>\n",
       "    <tr>\n",
       "      <th>Transformations of graphs</th>\n",
       "      <td>9.83</td>\n",
       "    </tr>\n",
       "    <tr>\n",
       "      <th>Inequalities and regions</th>\n",
       "      <td>14.16</td>\n",
       "    </tr>\n",
       "    <tr>\n",
       "      <th>Using upper and lower bounds in calculations - speed</th>\n",
       "      <td>15.46</td>\n",
       "    </tr>\n",
       "    <tr>\n",
       "      <th>Solving problems using similar volume</th>\n",
       "      <td>15.61</td>\n",
       "    </tr>\n",
       "    <tr>\n",
       "      <th>Plotting a circle and graphical solution of simulataneous equations</th>\n",
       "      <td>15.61</td>\n",
       "    </tr>\n",
       "  </tbody>\n",
       "</table>\n",
       "</div>"
      ],
      "text/plain": [
       "                                                    performance\n",
       "topic                                                          \n",
       "Volume and rates of change                                 4.16\n",
       "Algebraic proof for recurring decimals                     4.43\n",
       "Surds and indices                                          6.65\n",
       "Algebraic proof and solving a quadratic                    7.71\n",
       "Changing the subject of a formula                          8.38\n",
       "Transformations of graphs                                  9.83\n",
       "Inequalities and regions                                  14.16\n",
       "Using upper and lower bounds in calculations - ...        15.46\n",
       "Solving problems using similar volume                     15.61\n",
       "Plotting a circle and graphical solution of sim...        15.61"
      ]
     },
     "execution_count": 50,
     "metadata": {},
     "output_type": "execute_result"
    }
   ],
   "source": [
    "higher_df = pd.DataFrame(higher_results, columns=higher_results[0]._fields)\n",
    "# Convert decimal performance score to a percentage\n",
    "higher_grouped = higher_df.groupby(by='topic').mean()*100\n",
    "higher_bottom_10 = higher_grouped.sort_values(by='performance')[1:11]\n",
    "np.round(higher_bottom_10, 2)"
   ]
  },
  {
   "cell_type": "code",
   "execution_count": 51,
   "metadata": {
    "collapsed": false
   },
   "outputs": [
    {
     "data": {
      "text/html": [
       "<div>\n",
       "<table border=\"1\" class=\"dataframe\">\n",
       "  <thead>\n",
       "    <tr style=\"text-align: right;\">\n",
       "      <th></th>\n",
       "      <th>performance</th>\n",
       "    </tr>\n",
       "    <tr>\n",
       "      <th>topic</th>\n",
       "      <th></th>\n",
       "    </tr>\n",
       "  </thead>\n",
       "  <tbody>\n",
       "    <tr>\n",
       "      <th>Shaded region - bisect a line, radius from a point, scales</th>\n",
       "      <td>4.04</td>\n",
       "    </tr>\n",
       "    <tr>\n",
       "      <th>Area of compound shape; cost of tiles; % descrease</th>\n",
       "      <td>5.45</td>\n",
       "    </tr>\n",
       "    <tr>\n",
       "      <th>Volume of cuboids</th>\n",
       "      <td>6.06</td>\n",
       "    </tr>\n",
       "    <tr>\n",
       "      <th>Perimeter of rectangle; pythagoras to 1 d.p.</th>\n",
       "      <td>7.58</td>\n",
       "    </tr>\n",
       "    <tr>\n",
       "      <th>Ratio &amp; proportion including decimals</th>\n",
       "      <td>18.18</td>\n",
       "    </tr>\n",
       "    <tr>\n",
       "      <th>Factorising; simplify with indices</th>\n",
       "      <td>20.45</td>\n",
       "    </tr>\n",
       "    <tr>\n",
       "      <th>Cost based on elec meter readings &amp; price per unit</th>\n",
       "      <td>28.03</td>\n",
       "    </tr>\n",
       "    <tr>\n",
       "      <th>Form &amp; solve equation</th>\n",
       "      <td>29.09</td>\n",
       "    </tr>\n",
       "    <tr>\n",
       "      <th>Pie charts, angles and the values they respresent</th>\n",
       "      <td>29.29</td>\n",
       "    </tr>\n",
       "    <tr>\n",
       "      <th>Write a formula for T in terms of d and f</th>\n",
       "      <td>29.29</td>\n",
       "    </tr>\n",
       "  </tbody>\n",
       "</table>\n",
       "</div>"
      ],
      "text/plain": [
       "                                                    performance\n",
       "topic                                                          \n",
       "Shaded region - bisect a line, radius from a po...         4.04\n",
       "Area of compound shape; cost of tiles; % descrease         5.45\n",
       "Volume of cuboids                                          6.06\n",
       "Perimeter of rectangle; pythagoras to 1 d.p.               7.58\n",
       "Ratio & proportion including decimals                     18.18\n",
       "Factorising; simplify with indices                        20.45\n",
       "Cost based on elec meter readings & price per unit        28.03\n",
       "Form & solve equation                                     29.09\n",
       "Pie charts, angles and the values they respresent         29.29\n",
       "Write a formula for T in terms of d and f                 29.29"
      ]
     },
     "execution_count": 51,
     "metadata": {},
     "output_type": "execute_result"
    }
   ],
   "source": [
    "found_df = pd.DataFrame(found_results, columns=found_results[0]._fields)\n",
    "# Convert decimal performance score to a percentage\n",
    "found_grouped = found_df.groupby(by='topic').mean()*100\n",
    "found_bottom_10 = found_grouped.sort_values(by='performance')[1:11]\n",
    "np.round(found_bottom_10, 2)"
   ]
  },
  {
   "cell_type": "code",
   "execution_count": null,
   "metadata": {
    "collapsed": true
   },
   "outputs": [],
   "source": []
  },
  {
   "cell_type": "code",
   "execution_count": null,
   "metadata": {
    "collapsed": true
   },
   "outputs": [],
   "source": []
  }
 ],
 "metadata": {
  "kernelspec": {
   "display_name": "Python 3",
   "language": "python",
   "name": "python3"
  },
  "language_info": {
   "codemirror_mode": {
    "name": "ipython",
    "version": 3
   },
   "file_extension": ".py",
   "mimetype": "text/x-python",
   "name": "python",
   "nbconvert_exporter": "python",
   "pygments_lexer": "ipython3",
   "version": "3.4.3"
  }
 },
 "nbformat": 4,
 "nbformat_minor": 0
}
