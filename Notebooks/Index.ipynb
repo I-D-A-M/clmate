{
 "cells": [
  {
   "cell_type": "markdown",
   "metadata": {},
   "source": [
    "<table>\n",
    "<tr><img src=\"https://pbs.twimg.com/profile_images/378800000821059424/a3ea6fbe81395f9bccb79026fdbd18f5_400x400.png \" alt=\"Fulford Maths\" style=\"width: 200px; float: left\"/> <img src=\"https://avatars0.githubusercontent.com/u/8116092?v=3&s=460\" style=\"width: 200px; float: right\"/>\n",
    "</table>\n",
    "<br><br><br>\n",
    "<center><h1>ClMATE Analysis Notebooks</h1><h4>by I.D.A-M:\n",
    "<a href=\"https://github.com/sminez\">github</a>\n",
    "<a href=\"https://twitter.com/InnesMorrison\">twitter</a></h4></center>\n",
    "<br><br><br>\n",
    "#### This notebook is intended to be used by teachers to generate easy to read plots and summmary statistic for students.\n",
    "It can be used as a standalone interface to the ClMATE database and once all functions have been loaded, the analysis can be run for year-groups, classes or individual students.\n",
    "\n",
    "So far it can give:\n",
    "- Cohort performance for a single assessment (average percentage, bottom / top x questions, ranked pupils -> .xlsx) \n",
    "- Individual pupil performance per question, per topic and subtopic.\n",
    "\n",
    "#### TODO:\n",
    "- Finalise staff report layout"
   ]
  },
  {
   "cell_type": "markdown",
   "metadata": {},
   "source": [
    "### Powered by\n",
    "<img src=\"http://pandas.pydata.org/_static/pandas_logo.png\" alt=\"Pandas Logo\" style=\"width: 400px; float: left;\"/>\n",
    "<br><br><br>\n",
    "### Below you will find links to the main analysis notebook and some example class level analysis\n",
    "\n",
    "#### All analysis is tied to the *masterDF* pandas dataframe which must be set at the top of the notebook before analysis begins.\n",
    "\n",
    "* [Cohort Analysis](cohort_example.ipynb)\n",
    "* [Class Analysis](class_example.ipynb)\n",
    "* [Student Analysis](student_example.ipynb)"
   ]
  },
  {
   "cell_type": "markdown",
   "metadata": {},
   "source": [
    "### Execute the cell below to view a list of all the pre-defined functions in the ClMATE_analysis_functions module"
   ]
  },
  {
   "cell_type": "markdown",
   "metadata": {},
   "source": [
    "# Seaborn based plotting\n",
    "\n",
    "### <a href=\"http://stanford.edu/~mwaskom/software/seaborn/api.html#style-api\">Seaborn styles</a>\n",
    "white, dark, whitegrid, darkgrid, ticks\n",
    "\n",
    "<a href=\"http://stanford.edu/~mwaskom/software/seaborn/api.html\">Available plot types</a>\n",
    "\n",
    "*sns.set_context(**option**)* can be used to modify the appearance of a plot for specific outputs.<br>\n",
    "The four preset contexts, in order of relative size, are paper, notebook, talk, and poster\n",
    "\n",
    "## The following plot styles are available:\n",
    "seaborn-poster, fivethirtyeight, seaborn-white, seaborn-talk, seaborn-notebook, seaborn-colorblind, seaborn-whitegrid, seaborn-ticks, seaborn-deep, seaborn-pastel, seaborn-bright, dark_background, seaborn-muted, grayscale, classic, seaborn-paper, seaborn-dark, seaborn-dark-palette, seaborn-darkgrid, bmh, ggplot"
   ]
  },
  {
   "cell_type": "markdown",
   "metadata": {},
   "source": [
    "# Interactive Plots with <a href=\"http://lightning-viz.org/usage/#creating\">Lightning</a> - javascript based visualisation\n",
    "\n",
    "It is possible to run this in a local mode but some of the funcitonality is lost: *local=True*<br>\n",
    "or by connecting to a host: *host='http://public.lightning-viz.org'*"
   ]
  },
  {
   "cell_type": "code",
   "execution_count": null,
   "metadata": {
    "collapsed": false
   },
   "outputs": [],
   "source": [
    "import ClMATE_analysis_functions\n",
    "from ClMATE_analysis_functions import *\n",
    "\n",
    "help(ClMATE_analysis_functions)"
   ]
  }
 ],
 "metadata": {
  "kernelspec": {
   "display_name": "Python 3",
   "language": "python",
   "name": "python3"
  },
  "language_info": {
   "codemirror_mode": {
    "name": "ipython",
    "version": 3
   },
   "file_extension": ".py",
   "mimetype": "text/x-python",
   "name": "python",
   "nbconvert_exporter": "python",
   "pygments_lexer": "ipython3",
   "version": "3.4.3"
  }
 },
 "nbformat": 4,
 "nbformat_minor": 0
}
